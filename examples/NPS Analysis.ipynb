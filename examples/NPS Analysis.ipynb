{
 "cells": [
  {
   "cell_type": "code",
   "execution_count": null,
   "metadata": {},
   "outputs": [],
   "source": [
    "import pandas as pd\n",
    "from configobj import ConfigObj    # dnf install python3-configobj\n",
    "import sqlalchemy\n",
    "import matplotlib.pyplot as plt\n",
    "%matplotlib inline\n",
    "%config InlineBackend.figure_formats = ['svg']\n",
    "#plt.rcParams['figure.dpi']=400\n",
    "\n",
    "config='syncFromTypeform.conf'\n",
    "\n",
    "myNPSfields=[\n",
    "#     ['APiACy', '4772be8bd4f21ea2'],\n",
    "#     ['KPbhd6', '43afcbf9b69c2feb'],\n",
    "#     ['kVGmcU', '43afcbf9b69c2feb'],\n",
    "     ['YRyBYh', '4629726316f59ad4'],\n",
    "#     ['fHUNzp', 'e6dc74518142df7a'],\n",
    "#     ['WwuFx0', '4a2c5e69-166e-4e44-9543-a0966b8d35f0'],\n",
    "#     ['WwuFx0', 'f5c7ac13-868f-4948-9195-c812ad851aa3'],\n",
    "    ['WwuFx0', 'nps'],\n",
    "    ['RwBmJ4','268ef6ae60b480fc']\n",
    "]"
   ]
  },
  {
   "cell_type": "code",
   "execution_count": null,
   "metadata": {},
   "outputs": [],
   "source": [
    "context=ConfigObj(config)\n",
    "db=sqlalchemy.create_engine(context['database'], encoding='utf8')"
   ]
  },
  {
   "cell_type": "code",
   "execution_count": null,
   "metadata": {},
   "outputs": [],
   "source": [
    "fields=pd.DataFrame(myNPSfields,columns=['form_id','field_name'])"
   ]
  },
  {
   "cell_type": "code",
   "execution_count": null,
   "metadata": {},
   "outputs": [],
   "source": [
    "nps=pd.DataFrame()\n",
    "for index, field in fields.iterrows():\n",
    "    r=pd.read_sql_query(\"SELECT * FROM nps_daily_mv WHERE form_id='{}' AND field_name='{}'\".format(field['form_id'],field['field_name']),db)\n",
    "    nps=nps.append(r)\n",
    "del r"
   ]
  },
  {
   "cell_type": "code",
   "execution_count": null,
   "metadata": {},
   "outputs": [],
   "source": [
    "nps['date']=pd.to_datetime(nps['date'],infer_datetime_format=True)\n",
    "nps['NPS_cumulative_percent']=100*nps['NPS_cumulative']"
   ]
  },
  {
   "cell_type": "code",
   "execution_count": null,
   "metadata": {},
   "outputs": [],
   "source": [
    "for index, field in fields.iterrows():\n",
    "    if nps[(nps['form_id']==field['form_id']) & (nps['field_name']==field['field_name'])].shape[0]>0:\n",
    "        ax=nps[(nps['form_id']==field['form_id']) & (nps['field_name']==field['field_name'])].sort_values(by='date').plot(\n",
    "            kind='line',\n",
    "            x='date',\n",
    "            y='totl_cumulative',\n",
    "        )\n",
    "\n",
    "\n",
    "        nps[(nps['form_id']==field['form_id']) & (nps['field_name']==field['field_name'])].sort_values(by='date').plot(\n",
    "            kind='line',\n",
    "            x='date',\n",
    "            y='NPS_cumulative_percent',\n",
    "            secondary_y='NPS_cumulative_percent',\n",
    "            ax=ax\n",
    "        )\n",
    "\n",
    "        ax.set_title('«{}» {}'.format(\n",
    "            nps[(nps['form_id']==field['form_id']) & (nps['field_name']==field['field_name'])]['form_id'][0],\n",
    "            nps[(nps['form_id']==field['form_id']) & (nps['field_name']==field['field_name'])]['form_title'][0],\n",
    "\n",
    "            nps[(nps['form_id']==field['form_id']) & (nps['field_name']==field['field_name'])]['field_name'][0],\n",
    "            nps[(nps['form_id']==field['form_id']) & (nps['field_name']==field['field_name'])]['field_title'][0]\n",
    "        ))\n",
    "\n",
    "        ax.legend(['# respostas', '% NPS'], loc='best',bbox_to_anchor=(1.1,1))\n",
    "        ax.set_xlabel('Data')\n",
    "        ax.set_ylabel('# respostas')\n",
    "        ax.right_ax.set_ylabel('% NPS')"
   ]
  },
  {
   "cell_type": "code",
   "execution_count": null,
   "metadata": {},
   "outputs": [],
   "source": []
  }
 ],
 "metadata": {
  "kernelspec": {
   "display_name": "Python 3",
   "language": "python",
   "name": "python3"
  },
  "language_info": {
   "codemirror_mode": {
    "name": "ipython",
    "version": 3
   },
   "file_extension": ".py",
   "mimetype": "text/x-python",
   "name": "python",
   "nbconvert_exporter": "python",
   "pygments_lexer": "ipython3",
   "version": "3.7.4"
  }
 },
 "nbformat": 4,
 "nbformat_minor": 2
}
