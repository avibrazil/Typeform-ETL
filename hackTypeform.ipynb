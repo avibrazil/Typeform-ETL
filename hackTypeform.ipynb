{
 "cells": [
  {
   "cell_type": "code",
   "execution_count": null,
   "metadata": {},
   "outputs": [],
   "source": [
    "import requests\n",
    "import json\n",
    "import math\n",
    "import pandas as pd\n",
    "import hashlib\n",
    "import sqlite3"
   ]
  },
  {
   "cell_type": "code",
   "execution_count": null,
   "metadata": {},
   "outputs": [],
   "source": [
    "token='4H......sR.........iVz.......Mz'\n",
    "header={'Authorization': f'Bearer {token}'}"
   ]
  },
  {
   "cell_type": "code",
   "execution_count": null,
   "metadata": {},
   "outputs": [],
   "source": [
    "formList='https://api.typeform.com/forms?page_size=200&page={page}'\n",
    "formItems='https://api.typeform.com/forms/{id}'\n",
    "respList='https://api.typeform.com/forms/{id}/responses?page_size={psize}&page={page}'"
   ]
  },
  {
   "cell_type": "code",
   "execution_count": null,
   "metadata": {},
   "outputs": [],
   "source": [
    "response=requests.get(formList.format(page=1),\n",
    "                      headers=header).json()\n",
    "\n",
    "forms=[]\n",
    "\n",
    "for f in response['items']:\n",
    "    form={}\n",
    "    form['id']=f['id']\n",
    "    form['url']=f['_links']['display']\n",
    "    form['title']=f['title']\n",
    "    \n",
    "    forms.append(form)\n",
    "\n",
    "f=pd.DataFrame(columns=forms[0].keys())\n",
    "forms=f.append(forms)\n",
    "del f\n",
    "forms.set_index('id',inplace=True)\n",
    "forms.head()"
   ]
  },
  {
   "cell_type": "code",
   "execution_count": null,
   "metadata": {},
   "outputs": [],
   "source": [
    "forms.index"
   ]
  },
  {
   "cell_type": "code",
   "execution_count": null,
   "metadata": {},
   "outputs": [],
   "source": [
    "forms=forms.loc[['fHUNzp']] #, 'pwnDwc', 'QAnf1l', 'KPbhd6']]"
   ]
  },
  {
   "cell_type": "code",
   "execution_count": null,
   "metadata": {},
   "outputs": [],
   "source": [
    "field  = {}\n",
    "fields = []\n",
    "\n",
    "formItemsColumns=['id','form','type','title']\n",
    "\n",
    "for form in forms.index:\n",
    "    r=requests.get(formItems.format(id=form),\n",
    "           headers=header).json()\n",
    "    if 'fields' in r:\n",
    "        for f in r['fields']:\n",
    "            field = {}\n",
    "            field['form'] = form\n",
    "            field['id'] = f['id']\n",
    "            field['title'] = f['title']\n",
    "            field['type'] = f['type']\n",
    "            if 'description' in f:\n",
    "                field['description'] = f['description']\n",
    "\n",
    "            fields.append(field)\n",
    "\n",
    "    if 'hidden' in r:\n",
    "        for f in r['hidden']:\n",
    "            idCalc=hashlib.new('shake_256')\n",
    "\n",
    "            field = {}\n",
    "            field['form'] = form\n",
    "            field['title'] = f\n",
    "            field['type'] = 'hidden'\n",
    "            \n",
    "            idCalc.update('{}hidden{}'.format(form,f).encode('utf-8'))\n",
    "            field['id'] = idCalc.hexdigest(5)\n",
    "\n",
    "            fields.append(field)\n",
    "\n",
    "            \n",
    "\n",
    "formItems=pd.DataFrame(columns=formItemsColumns)\n",
    "formItems=formItems.append(fields)\n",
    "formItems.set_index('id',inplace=True)"
   ]
  },
  {
   "cell_type": "code",
   "execution_count": null,
   "metadata": {},
   "outputs": [],
   "source": [
    "formItems"
   ]
  },
  {
   "cell_type": "code",
   "execution_count": null,
   "metadata": {},
   "outputs": [],
   "source": [
    "meta     = {}\n",
    "metas    = []\n",
    "answer   = {}\n",
    "answers  = []\n",
    "\n",
    "metaColumns=['id', 'form_id', 'landed', 'submitted', 'agent', 'referer']\n",
    "answerColumns=['id', 'form_id', 'response_id', 'field_id', 'answer']\n",
    "\n",
    "\n",
    "for form in forms.index:\n",
    "    responses=requests.get(respList.format(id=form,psize=1,page=1),\n",
    "               headers=header).json()\n",
    "    for page in range(1,math.ceil(responses['total_items']/1000)):\n",
    "        responseSet=requests.get(respList.format(id=form,psize=1000,page=page),\n",
    "                   headers=header).json()\n",
    "\n",
    "        \n",
    "        for i in responseSet['items']:\n",
    "#             print(i)\n",
    "            meta = {}\n",
    "            meta['id']          = i['response_id']\n",
    "            meta['form_id']     = form\n",
    "            meta['landed']      = i['landed_at']\n",
    "            meta['submitted']   = i['submitted_at']\n",
    "            meta['agent']       = i['metadata']['user_agent']\n",
    "            meta['referer']     = i['metadata']['referer']\n",
    "\n",
    "            metas.append(meta)\n",
    "\n",
    "            if 'hidden' in i.keys():\n",
    "                for field in i['hidden'].keys():\n",
    "                    idCalc=hashlib.new('shake_256')\n",
    "                    answer = {}\n",
    "                    answer['response_id'] =  meta['id']\n",
    "                    answer['form_id']     =  form\n",
    "                    idCalc.update('{}{}{}'.format(answer[\"form_id\"],answer[\"response_id\"],field).encode('utf-8'))\n",
    "                    answer['id']          =  idCalc.hexdigest(5)\n",
    "                    answer['answer']      =  i['hidden'][field]\n",
    "\n",
    "                    \n",
    "                    \n",
    "                    idCalc=hashlib.new('shake_256')\n",
    "                    idCalc.update('{}hidden{}'.format(answer[\"form_id\"],field).encode('utf-8'))\n",
    "                    answer['field_id']    =  idCalc.hexdigest(5)\n",
    "                    \n",
    "                    answers.append(answer)\n",
    "                    \n",
    "\n",
    "                \n",
    "            if 'answers' in i.keys():\n",
    "                for field in i['answers']:\n",
    "#                     print(f'\\t{field}')\n",
    "                    idCalc=hashlib.new('shake_256')\n",
    "    \n",
    "                    answer = {}\n",
    "                    answer['response_id'] =  meta['id']\n",
    "                    answer['form_id']     =  form\n",
    "                    answer['field_id']    =  field['field']['id']\n",
    "                    idCalc.update('{}{}{}'.format(answer[\"form_id\"],answer[\"response_id\"],answer[\"field_id\"]).encode('utf-8'))\n",
    "                    answer['id']          =  idCalc.hexdigest(5)\n",
    "\n",
    "\n",
    "                    if field['type'] == 'choices':\n",
    "                        answer['answer']=[]\n",
    "                        for k in field[field['type']].keys():\n",
    "                            for a in field[field['type']][k]:\n",
    "                                answer['answer'].append(a)\n",
    "                        answer['answer']='|'.join(answer['answer'])\n",
    "                    elif field['type'] == 'choice':\n",
    "                        for k in field[field['type']].keys():\n",
    "                            answer['answer']=field[field['type']][k]\n",
    "                    else:\n",
    "                        answer['answer'] = field[field['type']]\n",
    "\n",
    "                    answers.append(answer)\n",
    "\n",
    "\n",
    "meta=pd.DataFrame(columns=metaColumns)\n",
    "if len(metas)>0:\n",
    "    meta=meta.append(metas)\n",
    "meta.set_index('id',inplace=True)\n",
    "del metas\n",
    "\n",
    "answer=pd.DataFrame(columns=answerColumns)\n",
    "if len(answers)>0:\n",
    "    answer=answer.append(answers)\n",
    "answer.set_index('id',inplace=True)\n",
    "del answers"
   ]
  },
  {
   "cell_type": "code",
   "execution_count": null,
   "metadata": {},
   "outputs": [],
   "source": [
    "meta.head()"
   ]
  },
  {
   "cell_type": "code",
   "execution_count": null,
   "metadata": {},
   "outputs": [],
   "source": [
    "answer.head(100)"
   ]
  },
  {
   "cell_type": "markdown",
   "metadata": {},
   "source": [
    "## Grava o DataFrame para um DB SQLite\n",
    "Este é o código para abrir ou criar um aquivo SQLite chamado `VivaReal.db`, na tabela `venda`. Para usar outro banco, como MariaDB, Oracle, DB2, altere esta célula e use a biblioteca SQL Alchemy com os drivers corretos. Todo o resto do código funcionará igual."
   ]
  },
  {
   "cell_type": "code",
   "execution_count": null,
   "metadata": {},
   "outputs": [],
   "source": [
    "dbfile = 'TypeForm.db'\n",
    "\n",
    "db = sqlite3.connect(dbfile)"
   ]
  },
  {
   "cell_type": "code",
   "execution_count": null,
   "metadata": {},
   "outputs": [],
   "source": [
    "forms.to_sql('forms', index=True, if_exists='replace', con=db)\n",
    "formItems.to_sql('formitems', index=True, if_exists='replace', con=db)\n",
    "meta.to_sql('responses', index=True, if_exists='replace', con=db)\n",
    "answer.to_sql('responseitems', index=True, if_exists='replace', con=db)"
   ]
  },
  {
   "cell_type": "code",
   "execution_count": null,
   "metadata": {},
   "outputs": [],
   "source": [
    "db.commit()\n",
    "db.close()"
   ]
  }
 ],
 "metadata": {
  "kernelspec": {
   "display_name": "Python 3",
   "language": "python",
   "name": "python3"
  },
  "language_info": {
   "codemirror_mode": {
    "name": "ipython",
    "version": 3
   },
   "file_extension": ".py",
   "mimetype": "text/x-python",
   "name": "python",
   "nbconvert_exporter": "python",
   "pygments_lexer": "ipython3",
   "version": "3.7.3"
  }
 },
 "nbformat": 4,
 "nbformat_minor": 2
}
