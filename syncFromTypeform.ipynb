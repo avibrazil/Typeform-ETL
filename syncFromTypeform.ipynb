{
 "cells": [
  {
   "cell_type": "markdown",
   "metadata": {},
   "source": [
    "# The TypeformSync in debug mode\n",
    "\n",
    "This notebook runs the TypeformSync module but lets you debug it.\n",
    "\n",
    "Notebook and module written by Avi Alkalay &lt;avi at unix.sh&gt;\n",
    "\n",
    "São Paulo, July 2019"
   ]
  },
  {
   "cell_type": "code",
   "execution_count": 1,
   "metadata": {},
   "outputs": [],
   "source": [
    "from configobj import ConfigObj    # dnf install python3-configobj\n",
    "import logging\n",
    "import pandas as pd\n",
    "\n",
    "config='syncFromTypeform.conf'"
   ]
  },
  {
   "cell_type": "markdown",
   "metadata": {},
   "source": [
    "## Import the module"
   ]
  },
  {
   "cell_type": "code",
   "execution_count": 2,
   "metadata": {},
   "outputs": [],
   "source": [
    "from Typeform import TypeformSync"
   ]
  },
  {
   "cell_type": "markdown",
   "metadata": {},
   "source": [
    "## Initialize logger and sync module"
   ]
  },
  {
   "cell_type": "code",
   "execution_count": 3,
   "metadata": {},
   "outputs": [],
   "source": [
    "context=ConfigObj(config)\n",
    "\n",
    "# Switch between INFO/DEBUG while running in production/developping:\n",
    "logging.getLogger().setLevel(logging.DEBUG)\n",
    "logging.getLogger('Typeform').setLevel(logging.DEBUG)\n",
    "logging.getLogger('urllib3.connectionpool').setLevel(logging.WARNING)\n",
    "logging.getLogger().addHandler(logging.StreamHandler())\n",
    "\n",
    "\n",
    "tf = TypeformSync(context['typeform_token'],context['database'])"
   ]
  },
  {
   "cell_type": "markdown",
   "metadata": {},
   "source": [
    "## Sync"
   ]
  },
  {
   "cell_type": "code",
   "execution_count": 4,
   "metadata": {},
   "outputs": [
    {
     "name": "stderr",
     "output_type": "stream",
     "text": [
      "Requesting form updates since 1970-01-01 00:00:00…\n",
      "Requesting forms…\n",
      "/usr/lib64/python3.7/site-packages/pandas/core/indexing.py:1472: FutureWarning: \n",
      "Passing list-likes to .loc or [] with any missing label will raise\n",
      "KeyError in the future, you can use .reindex() as an alternative.\n",
      "\n",
      "See the documentation here:\n",
      "https://pandas.pydata.org/pandas-docs/stable/indexing.html#deprecate-loc-reindex-listlike\n",
      "  return self._getitem_tuple(key)\n",
      "Requesting form items…\n",
      "Requesting response statistics for form «Tz3iJK», submitted=true…\n",
      "Requesting response statistics for form «Tz3iJK», submitted=false…\n",
      "Requesting response statistics for form «sCBW64», submitted=true…\n",
      "Requesting responses for form «sCBW64», submitted=true…\n",
      "Requesting response statistics for form «sCBW64», submitted=false…\n",
      "Requesting response statistics for form «deP0yD», submitted=true…\n",
      "Requesting responses for form «deP0yD», submitted=true…\n",
      "Requesting response statistics for form «deP0yD», submitted=false…\n",
      "Requesting response statistics for form «dlLAKk», submitted=true…\n",
      "Requesting responses for form «dlLAKk», submitted=true…\n",
      "Requesting response statistics for form «dlLAKk», submitted=false…\n",
      "Requesting response statistics for form «HtP0WQ», submitted=true…\n",
      "Requesting responses for form «HtP0WQ», submitted=true…\n",
      "Requesting response statistics for form «HtP0WQ», submitted=false…\n",
      "Requesting response statistics for form «plLZoV», submitted=true…\n",
      "Requesting responses for form «plLZoV», submitted=true…\n",
      "Requesting response statistics for form «plLZoV», submitted=false…\n",
      "Requesting response statistics for form «v5epz2», submitted=true…\n",
      "Requesting responses for form «v5epz2», submitted=true…\n",
      "Requesting response statistics for form «v5epz2», submitted=false…\n",
      "Requesting response statistics for form «tPX3NX», submitted=true…\n",
      "Requesting responses for form «tPX3NX», submitted=true…\n",
      "Requesting response statistics for form «tPX3NX», submitted=false…\n",
      "Requesting response statistics for form «pzDoa7», submitted=true…\n",
      "Requesting response statistics for form «pzDoa7», submitted=false…\n",
      "Requesting response statistics for form «APiACy», submitted=true…\n",
      "Requesting responses for form «APiACy», submitted=true…\n",
      "Requesting response statistics for form «APiACy», submitted=false…\n",
      "Requesting response statistics for form «WwuFx0», submitted=true…\n",
      "Requesting responses for form «WwuFx0», submitted=true…\n",
      "Requesting response statistics for form «WwuFx0», submitted=false…\n",
      "Requesting response statistics for form «YhT1vU», submitted=true…\n",
      "Requesting response statistics for form «YhT1vU», submitted=false…\n",
      "Requesting response statistics for form «tej3df», submitted=true…\n",
      "Requesting responses for form «tej3df», submitted=true…\n",
      "Requesting response statistics for form «tej3df», submitted=false…\n",
      "Requesting response statistics for form «HM4z4y», submitted=true…\n",
      "Requesting responses for form «HM4z4y», submitted=true…\n",
      "Requesting response statistics for form «HM4z4y», submitted=false…\n",
      "Requesting response statistics for form «kVGmcU», submitted=true…\n",
      "Requesting responses for form «kVGmcU», submitted=true…\n",
      "Requesting response statistics for form «kVGmcU», submitted=false…\n",
      "Requesting response statistics for form «fwCpgm», submitted=true…\n",
      "Requesting responses for form «fwCpgm», submitted=true…\n",
      "Requesting response statistics for form «fwCpgm», submitted=false…\n",
      "Requesting response statistics for form «nQBceF», submitted=true…\n",
      "Requesting response statistics for form «nQBceF», submitted=false…\n",
      "Requesting response statistics for form «NspxTx», submitted=true…\n",
      "Requesting response statistics for form «NspxTx», submitted=false…\n",
      "Requesting response statistics for form «f38Erg», submitted=true…\n",
      "Requesting response statistics for form «f38Erg», submitted=false…\n",
      "Requesting response statistics for form «BeN2zg», submitted=true…\n",
      "Requesting responses for form «BeN2zg», submitted=true…\n",
      "Requesting response statistics for form «BeN2zg», submitted=false…\n",
      "Requesting response statistics for form «VZnpZy», submitted=true…\n",
      "Requesting response statistics for form «VZnpZy», submitted=false…\n",
      "Requesting response statistics for form «zdgJ8H», submitted=true…\n",
      "Requesting responses for form «zdgJ8H», submitted=true…\n",
      "Requesting response statistics for form «zdgJ8H», submitted=false…\n",
      "Requesting response statistics for form «R9p1nT», submitted=true…\n",
      "Requesting responses for form «R9p1nT», submitted=true…\n",
      "Requesting response statistics for form «R9p1nT», submitted=false…\n",
      "Requesting response statistics for form «oP45pZ», submitted=true…\n",
      "Requesting responses for form «oP45pZ», submitted=true…\n",
      "Requesting response statistics for form «oP45pZ», submitted=false…\n",
      "Requesting response statistics for form «nO7HpJ», submitted=true…\n",
      "Requesting response statistics for form «nO7HpJ», submitted=false…\n",
      "Requesting response statistics for form «lUyB55», submitted=true…\n",
      "Requesting responses for form «lUyB55», submitted=true…\n",
      "Requesting response statistics for form «lUyB55», submitted=false…\n",
      "Requesting response statistics for form «pcz93t», submitted=true…\n",
      "Requesting responses for form «pcz93t», submitted=true…\n",
      "Requesting response statistics for form «pcz93t», submitted=false…\n",
      "Requesting response statistics for form «f5P44x», submitted=true…\n",
      "Requesting responses for form «f5P44x», submitted=true…\n",
      "Requesting response statistics for form «f5P44x», submitted=false…\n",
      "Requesting response statistics for form «x9l8DR», submitted=true…\n",
      "Requesting responses for form «x9l8DR», submitted=true…\n",
      "Requesting response statistics for form «x9l8DR», submitted=false…\n",
      "Requesting response statistics for form «FxYUXs», submitted=true…\n",
      "Requesting responses for form «FxYUXs», submitted=true…\n",
      "Requesting response statistics for form «FxYUXs», submitted=false…\n",
      "Requesting response statistics for form «LPGxK6», submitted=true…\n",
      "Requesting response statistics for form «LPGxK6», submitted=false…\n",
      "Requesting response statistics for form «zqN0I9», submitted=true…\n",
      "Requesting responses for form «zqN0I9», submitted=true…\n",
      "Requesting response statistics for form «zqN0I9», submitted=false…\n",
      "Requesting response statistics for form «DdrBNO», submitted=true…\n",
      "Requesting response statistics for form «DdrBNO», submitted=false…\n",
      "Requesting response statistics for form «i5H0bk», submitted=true…\n",
      "Requesting responses for form «i5H0bk», submitted=true…\n",
      "Requesting response statistics for form «i5H0bk», submitted=false…\n",
      "Requesting response statistics for form «RwBmJ4», submitted=true…\n",
      "Requesting responses for form «RwBmJ4», submitted=true…\n",
      "Requesting response statistics for form «RwBmJ4», submitted=false…\n",
      "Requesting response statistics for form «YRyBYh», submitted=true…\n",
      "Requesting responses for form «YRyBYh», submitted=true…\n",
      "Requesting responses for form «YRyBYh», submitted=true…\n",
      "Requesting responses for form «YRyBYh», submitted=true…\n",
      "Requesting response statistics for form «YRyBYh», submitted=false…\n",
      "Requesting response statistics for form «qo3Kr0», submitted=true…\n",
      "Requesting response statistics for form «qo3Kr0», submitted=false…\n",
      "Requesting response statistics for form «enws7H», submitted=true…\n",
      "Requesting responses for form «enws7H», submitted=true…\n",
      "Requesting response statistics for form «enws7H», submitted=false…\n",
      "Requesting response statistics for form «JX6zal», submitted=true…\n",
      "Requesting response statistics for form «JX6zal», submitted=false…\n",
      "Requesting response statistics for form «LUedkM», submitted=true…\n",
      "Requesting responses for form «LUedkM», submitted=true…\n",
      "Requesting response statistics for form «LUedkM», submitted=false…\n",
      "Requesting response statistics for form «DPxNer», submitted=true…\n",
      "Requesting responses for form «DPxNer», submitted=true…\n",
      "Requesting response statistics for form «DPxNer», submitted=false…\n",
      "Requesting response statistics for form «sBF8OI», submitted=true…\n",
      "Requesting responses for form «sBF8OI», submitted=true…\n",
      "Requesting response statistics for form «sBF8OI», submitted=false…\n",
      "Requesting response statistics for form «fHUNzp», submitted=true…\n",
      "Requesting responses for form «fHUNzp», submitted=true…\n",
      "Requesting response statistics for form «fHUNzp», submitted=false…\n",
      "Requesting response statistics for form «pwnDwc», submitted=true…\n",
      "Requesting responses for form «pwnDwc», submitted=true…\n",
      "Requesting response statistics for form «pwnDwc», submitted=false…\n",
      "Requesting response statistics for form «QAnf1l», submitted=true…\n",
      "Requesting response statistics for form «QAnf1l», submitted=false…\n",
      "Requesting response statistics for form «KPbhd6», submitted=true…\n",
      "Requesting responses for form «KPbhd6», submitted=true…\n",
      "Requesting responses for form «KPbhd6», submitted=true…\n",
      "Requesting responses for form «KPbhd6», submitted=true…\n",
      "Requesting responses for form «KPbhd6», submitted=true…\n",
      "Requesting responses for form «KPbhd6», submitted=true…\n",
      "Requesting responses for form «KPbhd6», submitted=true…\n",
      "Requesting response statistics for form «KPbhd6», submitted=false…\n",
      "Writting updates to DB…\n",
      "Writting «forms» dataframe updates to «forms» table in DB\n",
      "/usr/lib64/python3.7/site-packages/sqlalchemy/engine/default.py:550: Warning: (1051, \"Unknown table 'braseg.forms_temp'\")\n",
      "  cursor.execute(statement, parameters)\n",
      "Writting «formItems» dataframe updates to «form_items» table in DB\n",
      "/usr/lib64/python3.7/site-packages/sqlalchemy/engine/default.py:550: Warning: (1051, \"Unknown table 'braseg.form_items_temp'\")\n",
      "  cursor.execute(statement, parameters)\n",
      "Writting «responses» dataframe updates to «responses» table in DB\n",
      "/usr/lib64/python3.7/site-packages/sqlalchemy/engine/default.py:550: Warning: (1051, \"Unknown table 'braseg.responses_temp'\")\n",
      "  cursor.execute(statement, parameters)\n",
      "Writting «responses» to DB: [0:3000)\n",
      "Writting «responses» to DB: [3000:6000)\n",
      "Writting «responses» to DB: [6000:9000)\n",
      "Writting «responses» to DB: [9000:12000)\n",
      "Writting «answers» dataframe updates to «answers» table in DB\n",
      "/usr/lib64/python3.7/site-packages/sqlalchemy/engine/default.py:550: Warning: (1051, \"Unknown table 'braseg.answers_temp'\")\n",
      "  cursor.execute(statement, parameters)\n",
      "Writting «answers» to DB: [0:3000)\n",
      "Writting «answers» to DB: [3000:6000)\n",
      "Writting «answers» to DB: [6000:9000)\n",
      "Writting «answers» to DB: [9000:12000)\n",
      "Writting «answers» to DB: [12000:15000)\n",
      "Writting «answers» to DB: [15000:18000)\n",
      "Writting «answers» to DB: [18000:21000)\n",
      "Writting «answers» to DB: [21000:24000)\n",
      "Writting «answers» to DB: [24000:27000)\n",
      "Writting «answers» to DB: [27000:30000)\n",
      "Writting «answers» to DB: [30000:33000)\n",
      "Writting «answers» to DB: [33000:36000)\n",
      "Writting «answers» to DB: [36000:39000)\n",
      "Writting «answers» to DB: [39000:42000)\n",
      "Writting «answers» to DB: [42000:45000)\n",
      "Writting «answers» to DB: [45000:48000)\n",
      "Writting «answers» to DB: [48000:51000)\n",
      "Writting «answers» to DB: [51000:54000)\n",
      "Writting «answers» to DB: [54000:57000)\n",
      "Writting «answers» to DB: [57000:60000)\n",
      "Writting «answers» to DB: [60000:63000)\n",
      "Writting «answers» to DB: [63000:66000)\n",
      "Writting «answers» to DB: [66000:69000)\n",
      "Writting «answers» to DB: [69000:72000)\n",
      "Writting «answers» to DB: [72000:75000)\n",
      "Writting «answers» to DB: [75000:78000)\n",
      "Writting «answers» to DB: [78000:81000)\n",
      "Writting «answers» to DB: [81000:84000)\n",
      "Writting «answers» to DB: [84000:87000)\n",
      "Number of forms: 46\n",
      "Number of form fields: 605\n",
      "Number of responses: 11177\n",
      "Number of fields answered: 85883\n"
     ]
    }
   ],
   "source": [
    "tf.sync()"
   ]
  },
  {
   "cell_type": "markdown",
   "metadata": {},
   "source": [
    "## Some debugging starts here..."
   ]
  },
  {
   "cell_type": "code",
   "execution_count": null,
   "metadata": {},
   "outputs": [],
   "source": [
    "logging.getLogger('Typeform').setLevel(logging.DEBUG)\n",
    "# print(logging.getLogger('TypeForm').__dict__)\n",
    "\n",
    "str(logging.getLogger('TypeForm').__dict__)\n",
    "\n",
    "tf.logger.debug('abc')\n",
    "logging.debug('123')"
   ]
  },
  {
   "cell_type": "code",
   "execution_count": null,
   "metadata": {},
   "outputs": [],
   "source": [
    "logging.getLogger('Typeform').__dict__\n",
    "tf.logger.debug(123)"
   ]
  },
  {
   "cell_type": "code",
   "execution_count": null,
   "metadata": {},
   "outputs": [],
   "source": [
    "answers_db=pd.read_sql_table(con=tf.db,table_name='answers')"
   ]
  },
  {
   "cell_type": "code",
   "execution_count": null,
   "metadata": {},
   "outputs": [],
   "source": [
    "answers_db.set_index('id', inplace=True)"
   ]
  },
  {
   "cell_type": "code",
   "execution_count": null,
   "metadata": {},
   "outputs": [],
   "source": [
    "df = pd.merge(tf.answers, answers_db, how='outer', indicator=True)\n",
    "rows_in_tf_not_in_db = df[df['_merge']=='left_only']\n",
    "rows_in_db_not_in_tf = df[df['_merge']=='right_only']\n",
    "tf.answers.sort_values(by='id').head(50)"
   ]
  },
  {
   "cell_type": "code",
   "execution_count": null,
   "metadata": {},
   "outputs": [],
   "source": [
    "answers_db.sort_values(by='id').head(50)"
   ]
  },
  {
   "cell_type": "code",
   "execution_count": null,
   "metadata": {},
   "outputs": [],
   "source": [
    "answers_db.shape"
   ]
  },
  {
   "cell_type": "code",
   "execution_count": null,
   "metadata": {},
   "outputs": [],
   "source": [
    "# On a first sync, this should get you an empty DataFrame, meaning that DataFrame built from Typeform API and DB table are identical:\n",
    "rows_in_tf_not_in_db"
   ]
  },
  {
   "cell_type": "code",
   "execution_count": null,
   "metadata": {},
   "outputs": [],
   "source": [
    "# On a first sync, this should get you an empty DataFrame, meaning that DataFrame built from Typeform API and DB table are identical:\n",
    "rows_in_db_not_in_tf"
   ]
  },
  {
   "cell_type": "code",
   "execution_count": null,
   "metadata": {},
   "outputs": [],
   "source": [
    "tf.answers.data_type_hint.value_counts()"
   ]
  },
  {
   "cell_type": "code",
   "execution_count": null,
   "metadata": {},
   "outputs": [],
   "source": [
    "tf.responses.sort_values('submitted')"
   ]
  },
  {
   "cell_type": "code",
   "execution_count": null,
   "metadata": {},
   "outputs": [],
   "source": [
    "tf.answers['response']=pd.Categorical(tf.answers['response'],tf.responses.sort_values(by='landed').index)\n",
    "tf.answers.sort_values(by='response')"
   ]
  },
  {
   "cell_type": "code",
   "execution_count": null,
   "metadata": {},
   "outputs": [],
   "source": [
    "tf.formItems.type.value_counts()"
   ]
  },
  {
   "cell_type": "code",
   "execution_count": null,
   "metadata": {},
   "outputs": [],
   "source": [
    "#11249\n",
    "# tf.answers['answer']=tf.answers['safe_answer']\n",
    "for i in tf.answers[26185:26189].index: #[11100:11105]:\n",
    "    print(i,':')\n",
    "    print(\" \".join(\"{:04x}\".format(ord(c)) for c in tf.answers.loc[i].answer))\n",
    "    print()\n",
    "# '\\\\xF0\\\\x9F\\\\x98\\\\x91'"
   ]
  },
  {
   "cell_type": "code",
   "execution_count": null,
   "metadata": {},
   "outputs": [],
   "source": [
    "print('{:04x}'.format(ord('ç')))"
   ]
  },
  {
   "cell_type": "code",
   "execution_count": null,
   "metadata": {},
   "outputs": [],
   "source": [
    "# tf.answers[25500+153:26249]\n",
    "tf.answers[26185:26189].head(10)"
   ]
  },
  {
   "cell_type": "code",
   "execution_count": null,
   "metadata": {},
   "outputs": [],
   "source": [
    "tf.answers.loc['1d0f26f04c'].answer"
   ]
  },
  {
   "cell_type": "code",
   "execution_count": null,
   "metadata": {},
   "outputs": [],
   "source": [
    "tf.answers.loc[['0945c297c8']].answer.replace(to_replace=tf.invalidTextChars, value=None, inplace=True)"
   ]
  },
  {
   "cell_type": "code",
   "execution_count": null,
   "metadata": {},
   "outputs": [],
   "source": [
    "tf.answers['answer']=tf.answers.answer.str.replace(u'\\u200b', '')"
   ]
  },
  {
   "cell_type": "code",
   "execution_count": null,
   "metadata": {},
   "outputs": [],
   "source": [
    "tf.answers.loc['2c99af2c35'].answer\n",
    "#tf.answers"
   ]
  },
  {
   "cell_type": "code",
   "execution_count": null,
   "metadata": {},
   "outputs": [],
   "source": [
    "print(u'\\u200b')"
   ]
  },
  {
   "cell_type": "code",
   "execution_count": null,
   "metadata": {},
   "outputs": [],
   "source": [
    "\" \".join(\"{:02x}\".format(ord(c)) for c in tf.answers.loc['0945c297c8'].answer)\n"
   ]
  },
  {
   "cell_type": "code",
   "execution_count": null,
   "metadata": {},
   "outputs": [],
   "source": [
    "\" \".join(\"{:02x}\".format(ord(c)) for c in tf.answers.loc['0945c297c8'].answer.replace(u'\\u200b',''))"
   ]
  },
  {
   "cell_type": "code",
   "execution_count": null,
   "metadata": {},
   "outputs": [],
   "source": [
    "tf.answers.answer.replace(to_replace=tf.invalidTextChars, value=None, inplace=True)\n",
    "\n"
   ]
  },
  {
   "cell_type": "code",
   "execution_count": null,
   "metadata": {},
   "outputs": [],
   "source": [
    "tf.answers2=pd.read_sql_table('answers',tf.db)"
   ]
  },
  {
   "cell_type": "code",
   "execution_count": null,
   "metadata": {},
   "outputs": [],
   "source": [
    "tf.answers2.info()"
   ]
  },
  {
   "cell_type": "code",
   "execution_count": null,
   "metadata": {},
   "outputs": [],
   "source": [
    "tf.answers.info()"
   ]
  },
  {
   "cell_type": "code",
   "execution_count": null,
   "metadata": {},
   "outputs": [],
   "source": [
    "tf.answers2.set_index('id', inplace=True)"
   ]
  },
  {
   "cell_type": "code",
   "execution_count": null,
   "metadata": {},
   "outputs": [],
   "source": [
    "tf.answers2['response']=pd.Categorical(tf.answers2['response'],tf.responses.sort_values(by='landed').index)\n",
    "tf.answers2.sort_values(by='response', inplace=True)"
   ]
  },
  {
   "cell_type": "code",
   "execution_count": null,
   "metadata": {},
   "outputs": [],
   "source": [
    "tf.answers2.head(100)"
   ]
  },
  {
   "cell_type": "code",
   "execution_count": null,
   "metadata": {},
   "outputs": [],
   "source": [
    "tf.answers.head(100)"
   ]
  },
  {
   "cell_type": "code",
   "execution_count": null,
   "metadata": {},
   "outputs": [],
   "source": [
    "df1=tf.answers\n",
    "df2=tf.answers2"
   ]
  },
  {
   "cell_type": "code",
   "execution_count": null,
   "metadata": {},
   "outputs": [],
   "source": [
    "df1.reset_index(inplace=True)\n",
    "df2.reset_index(inplace=True)"
   ]
  },
  {
   "cell_type": "code",
   "execution_count": null,
   "metadata": {},
   "outputs": [],
   "source": [
    "df_2notin1 = df1[~(df1['id'].isin(df2['id']))].dropna().reset_index(drop=True)"
   ]
  },
  {
   "cell_type": "code",
   "execution_count": null,
   "metadata": {},
   "outputs": [],
   "source": [
    "df_2notin1"
   ]
  },
  {
   "cell_type": "code",
   "execution_count": null,
   "metadata": {},
   "outputs": [],
   "source": [
    "import numpy as np\n",
    "df=pd.DataFrame(index=np.arange(100), columns=np.arange(2))"
   ]
  },
  {
   "cell_type": "code",
   "execution_count": null,
   "metadata": {},
   "outputs": [],
   "source": [
    "df[0:3]"
   ]
  },
  {
   "cell_type": "code",
   "execution_count": null,
   "metadata": {},
   "outputs": [],
   "source": [
    "df[3:4]"
   ]
  },
  {
   "cell_type": "code",
   "execution_count": null,
   "metadata": {},
   "outputs": [],
   "source": [
    "import numpy as np\n",
    "np.log(100000)"
   ]
  },
  {
   "cell_type": "code",
   "execution_count": null,
   "metadata": {},
   "outputs": [],
   "source": []
  }
 ],
 "metadata": {
  "kernelspec": {
   "display_name": "Python 3",
   "language": "python",
   "name": "python3"
  },
  "language_info": {
   "codemirror_mode": {
    "name": "ipython",
    "version": 3
   },
   "file_extension": ".py",
   "mimetype": "text/x-python",
   "name": "python",
   "nbconvert_exporter": "python",
   "pygments_lexer": "ipython3",
   "version": "3.7.3"
  }
 },
 "nbformat": 4,
 "nbformat_minor": 2
}
