{
 "cells": [
  {
   "cell_type": "markdown",
   "metadata": {},
   "source": [
    "# The TypeformSync in debug mode\n",
    "\n",
    "This notebook runs the TypeformSync module but lets you debug it.\n",
    "\n",
    "Notebook and module written by Avi Alkalay &lt;avi at unix.sh&gt;\n",
    "\n",
    "São Paulo, July 2019"
   ]
  },
  {
   "cell_type": "code",
   "execution_count": null,
   "metadata": {},
   "outputs": [],
   "source": [
    "from configobj import ConfigObj    # dnf install python3-configobj\n",
    "import logging\n",
    "import pandas as pd\n",
    "\n",
    "config='syncFromTypeform.conf'"
   ]
  },
  {
   "cell_type": "markdown",
   "metadata": {},
   "source": [
    "## Import the module"
   ]
  },
  {
   "cell_type": "code",
   "execution_count": null,
   "metadata": {},
   "outputs": [],
   "source": [
    "from Typeform import TypeformSync"
   ]
  },
  {
   "cell_type": "markdown",
   "metadata": {},
   "source": [
    "## Initialize logger and sync module"
   ]
  },
  {
   "cell_type": "code",
   "execution_count": null,
   "metadata": {},
   "outputs": [],
   "source": [
    "context=ConfigObj(config)\n",
    "\n",
    "# Switch between INFO/DEBUG while running in production/developping:\n",
    "logging.getLogger().setLevel(logging.DEBUG)\n",
    "logging.getLogger('Typeform').setLevel(logging.DEBUG)\n",
    "logging.getLogger('urllib3.connectionpool').setLevel(logging.WARNING)\n",
    "\n",
    "\n",
    "tf = TypeformSync(context['typeform_token'],context['database'])"
   ]
  },
  {
   "cell_type": "markdown",
   "metadata": {},
   "source": [
    "## Sync"
   ]
  },
  {
   "cell_type": "code",
   "execution_count": null,
   "metadata": {},
   "outputs": [],
   "source": [
    "%time tf.sync()"
   ]
  },
  {
   "cell_type": "markdown",
   "metadata": {},
   "source": [
    "## Some debugging from here..."
   ]
  },
  {
   "cell_type": "code",
   "execution_count": null,
   "metadata": {},
   "outputs": [],
   "source": [
    "logging.getLogger('Typeform').setLevel(logging.DEBUG)\n",
    "# print(logging.getLogger('TypeForm').__dict__)\n",
    "\n",
    "str(logging.getLogger('TypeForm').__dict__)\n",
    "\n",
    "tf.logger.debug('abc')\n",
    "logging.debug('123')"
   ]
  },
  {
   "cell_type": "code",
   "execution_count": null,
   "metadata": {},
   "outputs": [],
   "source": [
    "logging.getLogger('Typeform').__dict__\n",
    "tf.logger.debug(123)"
   ]
  },
  {
   "cell_type": "code",
   "execution_count": null,
   "metadata": {},
   "outputs": [],
   "source": [
    "answers_db=pd.read_sql_table(con=tf.db,table_name='answers')"
   ]
  },
  {
   "cell_type": "code",
   "execution_count": null,
   "metadata": {},
   "outputs": [],
   "source": [
    "answers_db.set_index('id', inplace=True)"
   ]
  },
  {
   "cell_type": "code",
   "execution_count": null,
   "metadata": {},
   "outputs": [],
   "source": [
    "df = pd.merge(tf.answers, answers_db, how='outer', indicator=True)\n",
    "rows_in_tf_not_in_db = df[df['_merge']=='left_only']\n",
    "rows_in_db_not_in_tf = df[df['_merge']=='right_only']\n",
    "tf.answers.sort_values(by='id').head(50)"
   ]
  },
  {
   "cell_type": "code",
   "execution_count": null,
   "metadata": {},
   "outputs": [],
   "source": [
    "answers_db.sort_values(by='id').head(50)"
   ]
  },
  {
   "cell_type": "code",
   "execution_count": null,
   "metadata": {},
   "outputs": [],
   "source": [
    "answers_db.shape"
   ]
  },
  {
   "cell_type": "code",
   "execution_count": null,
   "metadata": {},
   "outputs": [],
   "source": [
    "# On a first sync, this should get you an empty DataFrame, meaning that DataFrame built from Typeform API and DB table are identical:\n",
    "rows_in_tf_not_in_db"
   ]
  },
  {
   "cell_type": "code",
   "execution_count": null,
   "metadata": {},
   "outputs": [],
   "source": [
    "# On a first sync, this should get you an empty DataFrame, meaning that DataFrame built from Typeform API and DB table are identical:\n",
    "rows_in_db_not_in_tf"
   ]
  },
  {
   "cell_type": "code",
   "execution_count": null,
   "metadata": {},
   "outputs": [],
   "source": [
    "tf.answers.data_type_hint.value_counts()"
   ]
  },
  {
   "cell_type": "code",
   "execution_count": null,
   "metadata": {},
   "outputs": [],
   "source": [
    "tf.responses.sort_values('submitted')"
   ]
  },
  {
   "cell_type": "code",
   "execution_count": null,
   "metadata": {},
   "outputs": [],
   "source": [
    "tf.answers['response']=pd.Categorical(tf.answers['response'],tf.responses.sort_values(by='landed').index)\n",
    "tf.answers.sort_values(by='response')"
   ]
  },
  {
   "cell_type": "code",
   "execution_count": null,
   "metadata": {},
   "outputs": [],
   "source": [
    "tf.formItems.type.value_counts()"
   ]
  }
 ],
 "metadata": {
  "kernelspec": {
   "display_name": "Python 3",
   "language": "python",
   "name": "python3"
  },
  "language_info": {
   "codemirror_mode": {
    "name": "ipython",
    "version": 3
   },
   "file_extension": ".py",
   "mimetype": "text/x-python",
   "name": "python",
   "nbconvert_exporter": "python",
   "pygments_lexer": "ipython3",
   "version": "3.7.3"
  }
 },
 "nbformat": 4,
 "nbformat_minor": 2
}
